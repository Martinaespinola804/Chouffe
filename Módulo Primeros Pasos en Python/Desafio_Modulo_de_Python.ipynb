{
 "cells": [
  {
   "cell_type": "code",
   "execution_count": 1,
   "id": "edb9615d",
   "metadata": {},
   "outputs": [],
   "source": [
    "import numpy as np"
   ]
  },
  {
   "cell_type": "code",
   "execution_count": 2,
   "id": "229eb87d",
   "metadata": {},
   "outputs": [],
   "source": [
    "#Ejercicio 0\n",
    "A = np.array([[-2,-4,2],[-2,1,2],[4,2,5]])"
   ]
  },
  {
   "cell_type": "code",
   "execution_count": 3,
   "id": "2f9bfe5a",
   "metadata": {},
   "outputs": [],
   "source": [
    "V1 = np.array([[1],[1],[1]])"
   ]
  },
  {
   "cell_type": "code",
   "execution_count": 4,
   "id": "bfe51189",
   "metadata": {},
   "outputs": [],
   "source": [
    "V2 = np.array([[1],[2],[3]])"
   ]
  },
  {
   "cell_type": "code",
   "execution_count": 5,
   "id": "0fc6fe94",
   "metadata": {},
   "outputs": [],
   "source": [
    "#Ejercicio 1\n",
    "def cant_distintos_cero (objeto):\n",
    "    #Si es un vector vertical lo traspongo para usarlo como fila\n",
    "    if (np.shape(objeto)[1]) == 1:\n",
    "        objeto = np.transpose(objeto)\n",
    "        \n",
    "    #Esta parte calcula las normas\n",
    "    return (np.count_nonzero (objeto, axis=1))\n",
    "    \n"
   ]
  },
  {
   "cell_type": "code",
   "execution_count": 6,
   "id": "8d5491fd",
   "metadata": {},
   "outputs": [],
   "source": [
    "def norma_p (objeto, p):\n",
    "    #Si es un vector vertical lo traspongo para usarlo como fila\n",
    "    if (np.shape(objeto)[1]) == 1:\n",
    "        objeto = np.transpose(objeto)\n",
    "    \n",
    "    #Esta parte calcula las normas\n",
    "    if p == 1:\n",
    "        resultado = np.sum(objeto, axis=1)\n",
    "    \n",
    "    elif p == 2:\n",
    "        resultado = np.sum(objeto**2, axis=1)**(0.5)\n",
    "    \n",
    "    return resultado\n",
    "        \n",
    "    "
   ]
  },
  {
   "cell_type": "code",
   "execution_count": 7,
   "id": "0a30eb02",
   "metadata": {},
   "outputs": [],
   "source": [
    "def i_infinity (objeto):\n",
    "    #Si es un vector vertical lo traspongo para usarlo como fila\n",
    "    if (np.shape(objeto)[1]) == 1:\n",
    "        objeto = np.transpose(objeto)\n",
    "    \n",
    "    #Esta parte calcula las normas\n",
    "    return objeto.max(axis=1)"
   ]
  },
  {
   "cell_type": "code",
   "execution_count": 8,
   "id": "096951cb",
   "metadata": {},
   "outputs": [],
   "source": [
    "#Ejercicio 2\n",
    "def organizador_matriz (matriz):\n",
    "    organizador = list()\n",
    "    organizador_definitivo = list()\n",
    "    \n",
    "    #Lo siguiente crea una lista de tuplas para cada vector de la\n",
    "    #matriz con el formato (norma_2, vector) para luego ser ordenada\n",
    "    \n",
    "    for vector in matriz:\n",
    "        organizador.append(tuple(([norma_p(np.vstack(vector),2), vector])))\n",
    "    organizador.sort(reverse=True)\n",
    "    \n",
    "    #Aca se transforma la lista de tuplas en una simple lista con los\n",
    "    #vectores ordenados\n",
    "    for par in organizador:\n",
    "        organizador_definitivo.append(par[1])\n",
    "    \n",
    "    #Se devuelve esta lista ordenada como un array matricial\n",
    "    return np.array(organizador_definitivo)"
   ]
  },
  {
   "cell_type": "code",
   "execution_count": 9,
   "id": "659af164",
   "metadata": {},
   "outputs": [],
   "source": [
    "#Ejercicio 3\n",
    "def formateador(matriz):\n",
    "    return (np.mean(matriz, axis=0)/np.std(matriz, axis=0))"
   ]
  },
  {
   "cell_type": "code",
   "execution_count": null,
   "id": "30e69e8c",
   "metadata": {},
   "outputs": [],
   "source": []
  }
 ],
 "metadata": {
  "kernelspec": {
   "display_name": "Python 3 (ipykernel)",
   "language": "python",
   "name": "python3"
  },
  "language_info": {
   "codemirror_mode": {
    "name": "ipython",
    "version": 3
   },
   "file_extension": ".py",
   "mimetype": "text/x-python",
   "name": "python",
   "nbconvert_exporter": "python",
   "pygments_lexer": "ipython3",
   "version": "3.10.9"
  }
 },
 "nbformat": 4,
 "nbformat_minor": 5
}
